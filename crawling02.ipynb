{
 "cells": [
  {
   "cell_type": "markdown",
   "id": "d3b846f1-e815-4569-9e07-a4e3d84e75c1",
   "metadata": {
    "tags": []
   },
   "source": [
    "# 네이버 뉴스"
   ]
  },
  {
   "cell_type": "markdown",
   "id": "059507ac-eb5b-4a7a-a488-4e6bb344f077",
   "metadata": {},
   "source": [
    "## 컨테이너 수집"
   ]
  },
  {
   "cell_type": "code",
   "execution_count": 102,
   "id": "8c05cc44-1c0b-4a41-9353-2dded5f67efb",
   "metadata": {},
   "outputs": [
    {
     "name": "stdout",
     "output_type": "stream",
     "text": [
      "<li class=\"bx\" id=\"sp_nws1\"> <div class=\"news_wrap api_ani_send\"> <div class=\"news_area\"> <div class=\"news_info\"> <div class=\"api_save_group _keep_wrap\"> <a aria-pressed=\"false\" class=\"btn_save _keep_trigger\" data-url=\"http://www.fnnews.com/news/202109071019564630\" href=\"#\" onclick=\"tCR('a=nws*h.kep&amp;r=1&amp;i=880000FF_000000000000000004704672&amp;u=javascript'); return false;\" role=\"button\"><i class=\"spnew ico_save\">문서 저장하기</i></a> <div class=\"api_ly_save _keep_save_layer\"> <a class=\"spnew_af item item_save _keep_save\" data-cr-off=\"a=nws*h.kepoff&amp;r=1&amp;i=880000FF_000000000000000004704672&amp;u=javascript\" data-cr-on=\"a=nws*h.kepon&amp;r=1&amp;i=880000FF_000000000000000004704672&amp;u=javascript\" href=\"#\" role=\"button\">Keep에 저장</a> <a class=\"spnew_af item item_quick\" href=\"https://keep.naver.com/\" onclick=\"return goOtherCR(this,'a=nws*h.kephome&amp;r=1&amp;i=880000FF_000000000000000004704672&amp;u='+urlencode(this.href));\" target=\"_blank\">Keep 바로가기</a> </div></div><div class=\"info_group\"> <a class=\"info press\" href=\"http://www.fnnews.com/\" onclick=\"return goOtherCR(this, 'a=nws*h.prof&amp;r=1&amp;i=880000FF_000000000000000004704672&amp;g=014.0004704672&amp;u='+urlencode(this.href));\" target=\"_blank\"><span class=\"thumb_box\"><img alt=\"\" class=\"thumb\" height=\"20\" onerror=\"this.src='data:image/gif;base64,R0lGODlhAQABAIAAAAAAAP///yH5BAEAAAAALAAAAAABAAEAAAIBRAA7';this.className='thumb bg_default_press'\" src=\"https://search.pstatic.net/common/?src=https%3A%2F%2Fmimgnews.pstatic.net%2Fimage%2Fupload%2Foffice_logo%2F014%2F2020%2F12%2F30%2Flogo_014_18_20201230135042.png&amp;type=f54_54&amp;expire=24&amp;refresh=true\" width=\"20\"/></span>파이낸셜뉴스<i class=\"spnew ico_pick\">언론사 선정</i></a><span class=\"info\">6시간 전</span><a class=\"info\" href=\"https://news.naver.com/main/read.naver?mode=LSD&amp;mid=sec&amp;sid1=100&amp;oid=014&amp;aid=0004704672\" onclick=\"return goOtherCR(this, 'a=nws*h.nav&amp;r=1&amp;i=880000FF_000000000000000004704672&amp;u='+urlencode(this.href));\" target=\"_blank\">네이버뉴스</a> </div></div><a class=\"news_tit\" href=\"http://www.fnnews.com/news/202109071019564630\" onclick=\"return goOtherCR(this, 'a=nws*h.tit&amp;r=1&amp;i=880000FF_000000000000000004704672&amp;g=014.0004704672&amp;u='+urlencode(this.href));\" target=\"_blank\" title=\"[속보]文대통령, 코로나 의료진 등 1만5천명에 '추석 선물'\">[속보]文대통령, <mark>코로나</mark> 의료진 등 1만5천명에 '추석 선물'</a> <div class=\"news_dsc\"> <div class=\"dsc_wrap\"> <a class=\"api_txt_lines dsc_txt_wrap\" href=\"http://www.fnnews.com/news/202109071019564630\" onclick=\"return goOtherCR(this, 'a=nws*h.body&amp;r=1&amp;i=880000FF_000000000000000004704672&amp;g=014.0004704672&amp;u='+urlencode(this.href));\" target=\"_blank\">청와대는 \"이번 추석 선물은 <mark>코로나</mark>19 관련 방역현장의 의료진 및 백신 예방접종 현장업무 종사자와 사회복지업무 종사자 등 일선에서 최선을 다하는 분들과 국가와 사회발전을 위해 헌신하신 각계 원로, 애국지사...</a> </div></div></div><a class=\"dsc_thumb\" href=\"http://www.fnnews.com/news/202109071019564630\" onclick=\"return goOtherCR(this, 'a=nws*h.img&amp;r=1&amp;i=880000FF_000000000000000004704672&amp;g=014.0004704672&amp;u='+urlencode(this.href));\" target=\"_blank\"><img alt=\"[속보]文대통령, 코로\" class=\"thumb api_get\" height=\"90\" onerror=\"this.parentNode.style.display='none';\" src=\"https://search.pstatic.net/common/?src=https%3A%2F%2Fimgnews.pstatic.net%2Fimage%2Forigin%2F014%2F2021%2F09%2F07%2F4704672.jpg&amp;type=ofullfill264_180_gray&amp;expire=2&amp;refresh=true\" width=\"132\"/></a> </div><div class=\"news_cluster\"> <ul class=\"list_cluster\"> <li class=\"sub_bx\"> <span class=\"sub_wrap\"> <span class=\"sub_area\"> <cite class=\"sub_txt press\" title=\"한국일보\">한국일보<i class=\"spnew ico_pick\">언론사 선정</i></cite><span class=\"sub_txt\">5시간 전</span><a class=\"sub_txt\" href=\"https://news.naver.com/main/read.naver?mode=LSD&amp;mid=sec&amp;sid1=100&amp;oid=469&amp;aid=0000628175\" onclick=\"return goOtherCR(this, 'a=nws*i.nav&amp;r=2&amp;i=88156f75_000000000000000000628175&amp;u='+urlencode(this.href));\" target=\"_blank\">네이버뉴스</a> </span><a class=\"elss sub_tit\" href=\"https://hankookilbo.com/News/Read/A2021090710250003779?did=NA\" onclick=\"return goOtherCR(this, 'a=nws*i.tit&amp;r=2&amp;i=88156f75_000000000000000000628175&amp;g=469.0000628175&amp;u='+urlencode(this.href));\" target=\"_blank\" title=\"문 대통령, 코로나 의료진에 '팔도 쌀' 추석 선물\">문 대통령, <mark>코로나</mark> 의료진에 '팔도 쌀' 추석 선물</a> </span></li> </ul></div></li>\n"
     ]
    }
   ],
   "source": [
    "import requests\n",
    "from bs4 import BeautifulSoup as bs\n",
    "#from urllib.request import urlopen\n",
    "\n",
    "# 소스코드 가져오기\n",
    "\n",
    "## raw\n",
    "raw = requests.get(\"https://search.naver.com/search.naver?where=news&sm=tab_jum&query=코로나\", \n",
    "                  headers={\"User-Agent\" : \"Chrome/51.0.2704.103\"}) # 주소, header를 사용  >> 웹브라우저에 대한 데이터를 같이 전송 >> 우회\n",
    "#print(raw) # Response = 200 : 정상 / 404 : 'Page not found'\n",
    "#print(raw.elapsed)\n",
    "#print(raw.text) # 그저 txt\n",
    "\n",
    "# 파싱하기\n",
    "html = BeautifulSoup(raw.text, \"html.parser\") # raw.txt를 html로 파싱 >> html 태깅된 코드\n",
    "#print(html)\n",
    "\n",
    "# 컨테이너\n",
    "articles = html.select(\"ul.list_news > li\") # <ul class=\"list_news\"> <li class=\"bx\" id=\"sp_nws1\"> ... </li> ... </ul>\n",
    "print(articles[0]) # 첫 번째 기사"
   ]
  },
  {
   "cell_type": "markdown",
   "id": "cb899936-bbba-421c-b0fc-8aa2649d424f",
   "metadata": {
    "tags": []
   },
   "source": [
    "## 컨테이너 별 데이터 수집"
   ]
  },
  {
   "cell_type": "code",
   "execution_count": 123,
   "id": "4c3e8fc6-db37-4752-acd8-f91483843de9",
   "metadata": {},
   "outputs": [
    {
     "name": "stdout",
     "output_type": "stream",
     "text": [
      "코로나 국민지원금 신청 첫날 507만명에 1조2천666억원 지급\n",
      "연합뉴스언론사 선정\n",
      "연합뉴스\n"
     ]
    }
   ],
   "source": [
    "import requests\n",
    "from bs4 import BeautifulSoup as bs\n",
    "#from urllib.request import urlopen\n",
    "\n",
    "# 소스코드 가져오기\n",
    "\n",
    "## raw\n",
    "raw = requests.get(\"https://search.naver.com/search.naver?where=news&sm=tab_jum&query=코로나\", \n",
    "                  headers={\"User-Agent\" : \"Chrome/51.0.2704.103\"}) # 주소, header를 사용  >> 웹브라우저에 대한 데이터를 같이 전송\n",
    "#print(raw) # Response = 200 : 정상 / 404 : 'Page not found'\n",
    "#print(raw.elapsed)\n",
    "#print(raw.text) # 그저 txt\n",
    "\n",
    "# 파싱하기\n",
    "html = BeautifulSoup(raw.text, \"html.parser\") # raw.txt를 html로 파싱 >> html 태깅된 코드\n",
    "#print(html)\n",
    "\n",
    "# 컨테이너\n",
    "articles = html.select(\"ul.list_news > li\") # <ul class=\"list_news\"> <li class=\"bx\" id=\"sp_nws1\"> ... </li> ... </ul>\n",
    "#print(articles[0]) # 첫 번째 기사\n",
    "\n",
    "# 데이터 찾기\n",
    "title = articles[0].select_one(\"a.news_tit\")\n",
    "print(title.text)\n",
    "source = articles[0].select_one(\"a.info.press\") # \" \" = \".\" : ??\n",
    "print(source.text)\n",
    "print(source.text[0:-6])"
   ]
  },
  {
   "cell_type": "markdown",
   "id": "4c0a848a-71f6-4bb1-a1df-852185a3a529",
   "metadata": {},
   "source": [
    "## 수집 반복"
   ]
  },
  {
   "cell_type": "code",
   "execution_count": 112,
   "id": "77090492-4bd0-4ada-9762-a118bcc0a6d4",
   "metadata": {},
   "outputs": [
    {
     "name": "stdout",
     "output_type": "stream",
     "text": [
      "[속보]文대통령, 코로나 의료진 등 1만5천명에 '추석 선물' ----- 파이낸셜뉴스\n",
      "코로나 국민지원금 신청 첫날 507만명에 1조2천666억원 지급 ----- 연합뉴스\n",
      "국민 10명 중 7명 \"'위드 코로나' 전환 찬성…11월 말이 적당\" ----- 연합뉴스\n",
      "‘위드 코로나’ 전환, 시점 나왔다…정은경 “10월 말 가능” ----- 조선비즈\n",
      "국민 10명 중 7명 \"'위드 코로나' 전환 찬성…11월 말이 적당\" ----- MBC\n",
      "KDI \"코로나 확산·원자재값 상승에 경기 불확실성 확대\" ----- 이데일리\n",
      "코로나19 신규 확진자 1597명···월요일 역대 최다 ----- 경향신문\n",
      "文대통령 \"코로나로 더 중요해진 사회복지인들 인건비 현실화\" ----- 노컷뉴스\n",
      "코로나 신규확진 1597명… 월요일 기준 최다 ----- 조선비즈\n",
      "EMA, 화이자 코로나19 백신 부스터샷 권고 여부 검토 ----- 연합뉴스\n"
     ]
    }
   ],
   "source": [
    "import requests\n",
    "from bs4 import BeautifulSoup as bs\n",
    "#from urllib.request import urlopen\n",
    "\n",
    "# 소스코드 가져오기\n",
    "\n",
    "## raw\n",
    "raw = requests.get(\"https://search.naver.com/search.naver?where=news&sm=tab_jum&query=코로나\", \n",
    "                  headers={\"User-Agent\" : \"Chrome/51.0.2704.103\"}) # 주소, header를 사용  >> 웹브라우저에 대한 데이터를 같이 전송\n",
    "#print(raw) # Response = 200 : 정상 / 404 : 'Page not found'\n",
    "#print(raw.elapsed)\n",
    "#print(raw.text) # 그저 txt\n",
    "\n",
    "# 파싱하기\n",
    "html = BeautifulSoup(raw.text, \"html.parser\") # raw.txt를 html로 파싱 >> html 태깅된 코드\n",
    "#print(html)\n",
    "\n",
    "# 컨테이너\n",
    "articles = html.select(\"ul.list_news > li\") # <ul class=\"list_news\"> <li class=\"bx\" id=\"sp_nws1\"> ... </li> ... </ul>\n",
    "#print(articles[0]) # 첫 번째 기사\n",
    "\n",
    "# 수집 반복\n",
    "for a in articles :\n",
    "    title = a.select_one(\"a.news_tit\").text\n",
    "    source = a.select_one(\"a.info.press\").text[0:-6]\n",
    "    \n",
    "    print(title, \"-\"*5, source)\n",
    "\n"
   ]
  },
  {
   "cell_type": "code",
   "execution_count": null,
   "id": "56a0b5cb-5b62-458a-98c9-ed5ebb49d52c",
   "metadata": {},
   "outputs": [],
   "source": []
  },
  {
   "cell_type": "code",
   "execution_count": null,
   "id": "c7ffb582-2d5b-4ca3-9540-bd4243f2c26c",
   "metadata": {},
   "outputs": [],
   "source": []
  }
 ],
 "metadata": {
  "kernelspec": {
   "display_name": "Python 3",
   "language": "python",
   "name": "python3"
  },
  "language_info": {
   "codemirror_mode": {
    "name": "ipython",
    "version": 3
   },
   "file_extension": ".py",
   "mimetype": "text/x-python",
   "name": "python",
   "nbconvert_exporter": "python",
   "pygments_lexer": "ipython3",
   "version": "3.8.11"
  }
 },
 "nbformat": 4,
 "nbformat_minor": 5
}
