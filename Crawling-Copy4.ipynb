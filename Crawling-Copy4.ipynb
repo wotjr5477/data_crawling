{
 "cells": [
  {
   "cell_type": "markdown",
   "id": "d3b846f1-e815-4569-9e07-a4e3d84e75c1",
   "metadata": {
    "tags": []
   },
   "source": [
    "# 네이버 뉴스"
   ]
  },
  {
   "cell_type": "markdown",
   "id": "059507ac-eb5b-4a7a-a488-4e6bb344f077",
   "metadata": {
    "jp-MarkdownHeadingCollapsed": true,
    "tags": []
   },
   "source": [
    "## 컨테이너 수집"
   ]
  },
  {
   "cell_type": "code",
   "execution_count": 102,
   "id": "8c05cc44-1c0b-4a41-9353-2dded5f67efb",
   "metadata": {},
   "outputs": [
    {
     "name": "stdout",
     "output_type": "stream",
     "text": [
      "<li class=\"bx\" id=\"sp_nws1\"> <div class=\"news_wrap api_ani_send\"> <div class=\"news_area\"> <div class=\"news_info\"> <div class=\"api_save_group _keep_wrap\"> <a aria-pressed=\"false\" class=\"btn_save _keep_trigger\" data-url=\"http://www.fnnews.com/news/202109071019564630\" href=\"#\" onclick=\"tCR('a=nws*h.kep&amp;r=1&amp;i=880000FF_000000000000000004704672&amp;u=javascript'); return false;\" role=\"button\"><i class=\"spnew ico_save\">문서 저장하기</i></a> <div class=\"api_ly_save _keep_save_layer\"> <a class=\"spnew_af item item_save _keep_save\" data-cr-off=\"a=nws*h.kepoff&amp;r=1&amp;i=880000FF_000000000000000004704672&amp;u=javascript\" data-cr-on=\"a=nws*h.kepon&amp;r=1&amp;i=880000FF_000000000000000004704672&amp;u=javascript\" href=\"#\" role=\"button\">Keep에 저장</a> <a class=\"spnew_af item item_quick\" href=\"https://keep.naver.com/\" onclick=\"return goOtherCR(this,'a=nws*h.kephome&amp;r=1&amp;i=880000FF_000000000000000004704672&amp;u='+urlencode(this.href));\" target=\"_blank\">Keep 바로가기</a> </div></div><div class=\"info_group\"> <a class=\"info press\" href=\"http://www.fnnews.com/\" onclick=\"return goOtherCR(this, 'a=nws*h.prof&amp;r=1&amp;i=880000FF_000000000000000004704672&amp;g=014.0004704672&amp;u='+urlencode(this.href));\" target=\"_blank\"><span class=\"thumb_box\"><img alt=\"\" class=\"thumb\" height=\"20\" onerror=\"this.src='data:image/gif;base64,R0lGODlhAQABAIAAAAAAAP///yH5BAEAAAAALAAAAAABAAEAAAIBRAA7';this.className='thumb bg_default_press'\" src=\"https://search.pstatic.net/common/?src=https%3A%2F%2Fmimgnews.pstatic.net%2Fimage%2Fupload%2Foffice_logo%2F014%2F2020%2F12%2F30%2Flogo_014_18_20201230135042.png&amp;type=f54_54&amp;expire=24&amp;refresh=true\" width=\"20\"/></span>파이낸셜뉴스<i class=\"spnew ico_pick\">언론사 선정</i></a><span class=\"info\">6시간 전</span><a class=\"info\" href=\"https://news.naver.com/main/read.naver?mode=LSD&amp;mid=sec&amp;sid1=100&amp;oid=014&amp;aid=0004704672\" onclick=\"return goOtherCR(this, 'a=nws*h.nav&amp;r=1&amp;i=880000FF_000000000000000004704672&amp;u='+urlencode(this.href));\" target=\"_blank\">네이버뉴스</a> </div></div><a class=\"news_tit\" href=\"http://www.fnnews.com/news/202109071019564630\" onclick=\"return goOtherCR(this, 'a=nws*h.tit&amp;r=1&amp;i=880000FF_000000000000000004704672&amp;g=014.0004704672&amp;u='+urlencode(this.href));\" target=\"_blank\" title=\"[속보]文대통령, 코로나 의료진 등 1만5천명에 '추석 선물'\">[속보]文대통령, <mark>코로나</mark> 의료진 등 1만5천명에 '추석 선물'</a> <div class=\"news_dsc\"> <div class=\"dsc_wrap\"> <a class=\"api_txt_lines dsc_txt_wrap\" href=\"http://www.fnnews.com/news/202109071019564630\" onclick=\"return goOtherCR(this, 'a=nws*h.body&amp;r=1&amp;i=880000FF_000000000000000004704672&amp;g=014.0004704672&amp;u='+urlencode(this.href));\" target=\"_blank\">청와대는 \"이번 추석 선물은 <mark>코로나</mark>19 관련 방역현장의 의료진 및 백신 예방접종 현장업무 종사자와 사회복지업무 종사자 등 일선에서 최선을 다하는 분들과 국가와 사회발전을 위해 헌신하신 각계 원로, 애국지사...</a> </div></div></div><a class=\"dsc_thumb\" href=\"http://www.fnnews.com/news/202109071019564630\" onclick=\"return goOtherCR(this, 'a=nws*h.img&amp;r=1&amp;i=880000FF_000000000000000004704672&amp;g=014.0004704672&amp;u='+urlencode(this.href));\" target=\"_blank\"><img alt=\"[속보]文대통령, 코로\" class=\"thumb api_get\" height=\"90\" onerror=\"this.parentNode.style.display='none';\" src=\"https://search.pstatic.net/common/?src=https%3A%2F%2Fimgnews.pstatic.net%2Fimage%2Forigin%2F014%2F2021%2F09%2F07%2F4704672.jpg&amp;type=ofullfill264_180_gray&amp;expire=2&amp;refresh=true\" width=\"132\"/></a> </div><div class=\"news_cluster\"> <ul class=\"list_cluster\"> <li class=\"sub_bx\"> <span class=\"sub_wrap\"> <span class=\"sub_area\"> <cite class=\"sub_txt press\" title=\"한국일보\">한국일보<i class=\"spnew ico_pick\">언론사 선정</i></cite><span class=\"sub_txt\">5시간 전</span><a class=\"sub_txt\" href=\"https://news.naver.com/main/read.naver?mode=LSD&amp;mid=sec&amp;sid1=100&amp;oid=469&amp;aid=0000628175\" onclick=\"return goOtherCR(this, 'a=nws*i.nav&amp;r=2&amp;i=88156f75_000000000000000000628175&amp;u='+urlencode(this.href));\" target=\"_blank\">네이버뉴스</a> </span><a class=\"elss sub_tit\" href=\"https://hankookilbo.com/News/Read/A2021090710250003779?did=NA\" onclick=\"return goOtherCR(this, 'a=nws*i.tit&amp;r=2&amp;i=88156f75_000000000000000000628175&amp;g=469.0000628175&amp;u='+urlencode(this.href));\" target=\"_blank\" title=\"문 대통령, 코로나 의료진에 '팔도 쌀' 추석 선물\">문 대통령, <mark>코로나</mark> 의료진에 '팔도 쌀' 추석 선물</a> </span></li> </ul></div></li>\n"
     ]
    }
   ],
   "source": [
    "import requests\n",
    "from bs4 import BeautifulSoup as bs\n",
    "#from urllib.request import urlopen\n",
    "\n",
    "# 소스코드 가져오기\n",
    "\n",
    "## raw\n",
    "raw = requests.get(\"https://search.naver.com/search.naver?where=news&sm=tab_jum&query=코로나\", \n",
    "                  headers={\"User-Agent\" : \"Chrome/51.0.2704.103\"}) # 주소, header를 사용  >> 웹브라우저에 대한 데이터를 같이 전송 >> 우회\n",
    "#print(raw) # Response = 200 : 정상 / 404 : 'Page not found'\n",
    "#print(raw.elapsed)\n",
    "#print(raw.text) # 그저 txt\n",
    "\n",
    "# 파싱하기\n",
    "html = BeautifulSoup(raw.text, \"html.parser\") # raw.txt를 html로 파싱 >> html 태깅된 코드\n",
    "#print(html)\n",
    "\n",
    "# 컨테이너\n",
    "articles = html.select(\"ul.list_news > li\") # <ul class=\"list_news\"> <li class=\"bx\" id=\"sp_nws1\"> ... </li> ... </ul>\n",
    "print(articles[0]) # 첫 번째 기사"
   ]
  },
  {
   "cell_type": "markdown",
   "id": "cb899936-bbba-421c-b0fc-8aa2649d424f",
   "metadata": {
    "jp-MarkdownHeadingCollapsed": true,
    "tags": []
   },
   "source": [
    "## 컨테이너 별 데이터 수집"
   ]
  },
  {
   "cell_type": "code",
   "execution_count": 123,
   "id": "4c3e8fc6-db37-4752-acd8-f91483843de9",
   "metadata": {},
   "outputs": [
    {
     "name": "stdout",
     "output_type": "stream",
     "text": [
      "코로나 국민지원금 신청 첫날 507만명에 1조2천666억원 지급\n",
      "연합뉴스언론사 선정\n",
      "연합뉴스\n"
     ]
    }
   ],
   "source": [
    "import requests\n",
    "from bs4 import BeautifulSoup as bs\n",
    "#from urllib.request import urlopen\n",
    "\n",
    "# 소스코드 가져오기\n",
    "\n",
    "## raw\n",
    "raw = requests.get(\"https://search.naver.com/search.naver?where=news&sm=tab_jum&query=코로나\", \n",
    "                  headers={\"User-Agent\" : \"Chrome/51.0.2704.103\"}) # 주소, header를 사용  >> 웹브라우저에 대한 데이터를 같이 전송\n",
    "#print(raw) # Response = 200 : 정상 / 404 : 'Page not found'\n",
    "#print(raw.elapsed)\n",
    "#print(raw.text) # 그저 txt\n",
    "\n",
    "# 파싱하기\n",
    "html = BeautifulSoup(raw.text, \"html.parser\") # raw.txt를 html로 파싱 >> html 태깅된 코드\n",
    "#print(html)\n",
    "\n",
    "# 컨테이너\n",
    "articles = html.select(\"ul.list_news > li\") # <ul class=\"list_news\"> <li class=\"bx\" id=\"sp_nws1\"> ... </li> ... </ul>\n",
    "#print(articles[0]) # 첫 번째 기사\n",
    "\n",
    "# 데이터 찾기\n",
    "title = articles[0].select_one(\"a.news_tit\")\n",
    "print(title.text)\n",
    "source = articles[0].select_one(\"a.info.press\") # \" \" = \".\" : ??\n",
    "print(source.text)\n",
    "print(source.text[0:-6])"
   ]
  },
  {
   "cell_type": "markdown",
   "id": "4c0a848a-71f6-4bb1-a1df-852185a3a529",
   "metadata": {
    "jp-MarkdownHeadingCollapsed": true,
    "tags": []
   },
   "source": [
    "## 수집 반복"
   ]
  },
  {
   "cell_type": "code",
   "execution_count": 112,
   "id": "77090492-4bd0-4ada-9762-a118bcc0a6d4",
   "metadata": {},
   "outputs": [
    {
     "name": "stdout",
     "output_type": "stream",
     "text": [
      "[속보]文대통령, 코로나 의료진 등 1만5천명에 '추석 선물' ----- 파이낸셜뉴스\n",
      "코로나 국민지원금 신청 첫날 507만명에 1조2천666억원 지급 ----- 연합뉴스\n",
      "국민 10명 중 7명 \"'위드 코로나' 전환 찬성…11월 말이 적당\" ----- 연합뉴스\n",
      "‘위드 코로나’ 전환, 시점 나왔다…정은경 “10월 말 가능” ----- 조선비즈\n",
      "국민 10명 중 7명 \"'위드 코로나' 전환 찬성…11월 말이 적당\" ----- MBC\n",
      "KDI \"코로나 확산·원자재값 상승에 경기 불확실성 확대\" ----- 이데일리\n",
      "코로나19 신규 확진자 1597명···월요일 역대 최다 ----- 경향신문\n",
      "文대통령 \"코로나로 더 중요해진 사회복지인들 인건비 현실화\" ----- 노컷뉴스\n",
      "코로나 신규확진 1597명… 월요일 기준 최다 ----- 조선비즈\n",
      "EMA, 화이자 코로나19 백신 부스터샷 권고 여부 검토 ----- 연합뉴스\n"
     ]
    }
   ],
   "source": [
    "import requests\n",
    "from bs4 import BeautifulSoup as bs\n",
    "#from urllib.request import urlopen\n",
    "\n",
    "# 소스코드 가져오기\n",
    "\n",
    "## raw\n",
    "raw = requests.get(\"https://search.naver.com/search.naver?where=news&sm=tab_jum&query=코로나\", \n",
    "                  headers={\"User-Agent\" : \"Chrome/51.0.2704.103\"}) # 주소, header를 사용  >> 웹브라우저에 대한 데이터를 같이 전송\n",
    "#print(raw) # Response = 200 : 정상 / 404 : 'Page not found'\n",
    "#print(raw.elapsed)\n",
    "#print(raw.text) # 그저 txt\n",
    "\n",
    "# 파싱하기\n",
    "html = BeautifulSoup(raw.text, \"html.parser\") # raw.txt를 html로 파싱 >> html 태깅된 코드\n",
    "#print(html)\n",
    "\n",
    "# 컨테이너\n",
    "articles = html.select(\"ul.list_news > li\") # <ul class=\"list_news\"> <li class=\"bx\" id=\"sp_nws1\"> ... </li> ... </ul>\n",
    "#print(articles[0]) # 첫 번째 기사\n",
    "\n",
    "# 수집 반복\n",
    "for a in articles :\n",
    "    title = a.select_one(\"a.news_tit\").text\n",
    "    source = a.select_one(\"a.info.press\").text[0:-6]\n",
    "    \n",
    "    print(title, \"-\"*5, source)\n",
    "\n"
   ]
  },
  {
   "cell_type": "markdown",
   "id": "76992acf-2bde-41ec-b25f-d0b26685f639",
   "metadata": {
    "jp-MarkdownHeadingCollapsed": true,
    "tags": []
   },
   "source": [
    "## 여러 페이지에서 수집 반복"
   ]
  },
  {
   "cell_type": "code",
   "execution_count": 3,
   "id": "a874d5ba-9a6e-4989-ac33-9f1b04a7c0f8",
   "metadata": {
    "tags": []
   },
   "outputs": [
    {
     "name": "stdout",
     "output_type": "stream",
     "text": [
      "[속보]文대통령, 코로나 의료진 등 1만5천명에 '추석 선물' ----- 파이낸셜뉴스\n",
      "국민 10명 중 7명 \"'위드 코로나' 전환 찬성…11월 말이 적당\" ----- 연합뉴스\n",
      "코로나19 국민지원금 신청 첫날 1조 2666억 원 지급 ----- 노컷뉴스\n",
      "‘위드 코로나’ 전환, 시점 나왔다…정은경 “10월 말 가능” ----- 조선비즈\n",
      "코로나19 신규 확진자 1597명···월요일 역대 최다 ----- 경향신문\n",
      "KDI \"코로나 확산·원자재값 상승에 경기 불확실성 확대\" ----- 이데일리\n",
      "[속보] 국민 10명 중 7명, '일상 속 코로나' 전환 찬성…\"11월 말 적당\" ----- 매일신문\n",
      "독감 백신 1460만명 무료접종…“코로나 백신과 한날 맞아도 돼” ----- 한겨레\n",
      "코로나19 신규확진 1,597명…월요일 기준 최다 ----- MBC\n",
      "코로나 신규확진 1597명… 월요일 기준 최다 ----- 조선비즈\n",
      "코로나19 백신 1차 접종자 전 국민 60% 돌파 ----- 파이낸셜뉴스\n",
      "KDI \"코로나 확산·원자재값 상승에 경기 불확실성 확대\" ----- 이데일리\n",
      "\"10월초 '위드코로나' 조기 전환, 찬성 58.5% 반대 34.3%\" ----- 연합뉴스\n",
      "[Q&A] 독감-코로나19 백신 같이 맞을 땐…\"접종간격 제한 없어\" ----- 연합뉴스\n",
      "文대통령 \"코로나로 더 중요해진 사회복지인들 인건비 현실화\" ----- 노컷뉴스\n",
      "코로나19 신규확진 1,597명…월요일 기준 최다 ----- MBC\n",
      "독감백신 1천460만명에 무료접종…코로나19 예방접종과 동시 진행 ----- 연합뉴스\n",
      "당국 \"10월말부터 '위드 코로나'에 유리한 여건…용어사용은 지양\" ----- 연합뉴스\n",
      "\"네이버·카카오맵서 코로나 국민지원금 사용처 확인하세요\"(종합) ----- 연합뉴스\n",
      "문대통령 \"새 방역체계 모색\"…위드코로나 속도 내나(종합) ----- 연합뉴스\n",
      "셀리버리, 코로나 면역치료제 'iCP-NI' 유럽 임상신청 완료 ----- 파이낸셜뉴스\n",
      "코로나 국민지원금, 스타벅스·배달의민족에서는 사용 못 해 ----- 연합뉴스\n",
      "[속보] 안산 코로나 확진자 49명 발생 '발생정보는?' ----- \n",
      "코로나 상생 국민지원금 콜센터 분주 ----- \n",
      "코로나19 백신 접종 4천647만건중 오접종 사례 1천386건…0.003% ----- 연합뉴스\n",
      "문대통령, 10일 몽골 대통령과 화상회담…코로나 대응 논의 ----- \n",
      "\"코로나 백신 1차 접종률 60% 넘겨...9월 중 환자 감소 전망\" ----- 프레시안\n",
      "코로나 후 연매출 2조 올린 한샘… 롯데 이어 LX하우시스도 인수 출사표 ----- 머니S\n",
      "정부 \"'위드 코로나' 용어 사용 자제…방역 긴장감 낮아져\" ----- 연합뉴스\n",
      "직장인 64% \"코로나 이후 디지털 과부하 심해졌다\" ----- 파이낸셜뉴스\n",
      "美 코로나 재확산에 중환자실 부족 임박 ----- 파이낸셜뉴스\n",
      "어제 코로나19 신규 확진 1597명…63일 연속 네 자릿수 ----- 세계일보\n",
      "방역당국 \"코로나 백신 수급, 더 이상 불안해할 필요없어\" ----- 파이낸셜뉴스\n",
      "정부 \"코로나19와 독감은 다른 감염병\"…독감백신 접종 당부 ----- 연합뉴스\n",
      "코로나 국민지원금 오늘부터 접수…카드사 홈페이지서 신청 가능 ----- 연합뉴스\n",
      "코로나19에도 ‘대구청년주간’은 계속된다 ----- \n",
      "코로나 국민지원금 내일부터 접수…신청은 어떻게? ----- SBS\n",
      "‘위드 코로나’ 내비친 文 “세계서 가장 빠른 접종 속도” 왜곡 발언 ----- 동아일보\n",
      "정은경 \"10월 말부터 '위드 코로나' 적용 가능할 것\" ----- YTN\n",
      "화순 가을축제 국화향연, 코로나19 확산 우려에 올해도 취소 ----- \n",
      "위드 코로나 수혜주는…관광·엔터주 '주목' ----- 뉴시스\n",
      "정부 \"위드코로나 검토…상황 안정시 10월부터 단계적 이행\" ----- 한국경제\n",
      "코로나 국민지원금 사용 앞두고 지역사랑상품권 가맹점 늘어 ----- 연합뉴스\n",
      "일본, 연내 코로나19 백신 '부스터샷' 시작 검토 ----- \n",
      "[속보] \"코로나19 백신 접종 예방효과 16∼18세 98.4%, 19∼24세 92.4%\" ----- 부산일보\n",
      "'코로나 확진' 송가인 근황 공개...\"이제 괜찮아요\" ----- \n",
      "어제 코로나19 백신 '사상 최대치' 기록..\"약 136만회 접종\" ----- 파이낸셜뉴스\n",
      "위드 코로나 대신 ‘단계적 일상 회복’ ----- 서울신문\n",
      "이·미용업장 코로나 방역 강화…동행 제한-예약제 운영 권고 ----- \n",
      "정부, 미얀마에 300만 달러 인도적 지원…“코로나 극복에 도움 되길” ----- 서울신문\n",
      "국민 4명 중 1명 백신에 부정적…위드 코로나 최대 복병 ----- \n",
      "충남도, 추석 명절 전후 코로나19 확산방지 주력 ----- \n",
      "GS건설, 코로나19 어려움 겪는 운동선수 돕는다 ----- \n",
      "\"코로나 백신 4차례까지…이스라엘 추가 부스터샷 준비\" ----- 연합뉴스\n",
      "장흥군 코로나19 백신 1차 접종 80%돌파 ----- \n",
      "문 대통령, 코로나 의료진에 '팔도 쌀' 추석 선물 ----- 한국일보\n",
      "제주 초등학생 '학폭' 피해 1.7%p↑…코로나19가 키웠다 ----- 파이낸셜뉴스\n",
      "코로나 추석 2년째…올해도 직장인 절반 \"귀성포기\" ----- 뉴시스\n",
      "국민 10명 중 7명 '일상 속 코로나' 전환 찬성, 시기는 '11월 말' ----- 이데일리\n",
      "카라 허영지, 코로나19 확진 ----- \n",
      "[단독] 코로나 확진자 발생한 ‘도시어부3’…이수근은 음성 판정 ----- \n",
      "코로나 대출만기 '째깍째깍'...中企 \"만기연장 및 이자유예 시급\" ----- 전자신문\n",
      "YTN 여론조사 \"위드코로나 조기전환, 10명 중 6명 찬성\" ----- YTN\n",
      "코로나19 신규 확진자 1597명…오늘 1차 접종률 60% 넘긴다 ----- 한겨레\n",
      "[World Now] \"아직 치료법 없는데\"…英, 코로나19 '인체감염실험' 논란 ----- MBC\n",
      "군산시, 코로나19 1차 예방 접종률 61.75% 돌파 ----- \n",
      "코로나19 신규 확진자 1,597명…63일째 연속 네 자릿수 ----- KBS\n",
      "문 대통령 “코로나 신용사면 200만명 빠짐없이 혜택받게 철저 준비” ----- 경향신문\n",
      "코로나19 1차 예방접종 3000만 명 이상 마쳤다 ----- \n",
      "경남에 코로나19 확진 45명 발생…양산 보육·교육시설 관련 누적 36명 ----- 부산일보\n",
      "코로나19 속 밀키트 시장 급성장 ----- \n",
      "文 “새 방역체계 모색”… 위드코로나 시사 ----- 동아일보\n",
      "김포시 “민원동 1층 하루폐쇄”…직원 코로나확진 ----- 파이낸셜뉴스\n",
      "이낙연, '넥스트 대한민국' 제안…포스트 코로나 위해 250조 투자 ----- \n",
      "야놀자, 코로나 위기 극복 신규 지원책 실시 ----- \n",
      "공주시, 코로나19 백신 접종완료 ‘안심 배지’ 배부 ----- \n",
      "'코로나19 확산 방지 위해' ----- \n",
      "안철수 \"'위드 코로나' 우려…정부가 희망고문하는 것\" ----- 뉴시스\n",
      "코로나19 신규 확진 1597명… 백신 접종 136만건 일일 '역대 최다' ----- 아시아경제\n",
      "美 코로나 입원환자·사망자, 겨울 대확산 뒤 최고 수준 ----- YTN\n",
      "코로나 백신 개발 기업들, 대조백신 못 구해 노심초사 ----- 뉴시스\n",
      "코로나19 신규확진 1,597명...월요일 기준 최다, 다시 증가세 ----- SBS Biz\n",
      "네이버 지도에서 ‘코로나 상생 국민지원금’ 사용처 확인 ----- 파이낸셜뉴스\n",
      "경기도, 추석 맞아 코로나 ‘경제방역’…中企에 200억 수혈 ----- \n",
      "김정숙 여사 “코로나 백신 공평하게 보급 안되고 있다” ----- 국민일보\n",
      "가을 야외활동 중 쯔쯔가무시·SFTS 주의…\"코로나와 증상 비슷\" ----- \n",
      "오늘부터 코로나 '상생' 국민지원금 신청 ----- \n",
      "코로나 백신 인증배지 ----- \n",
      "주식열풍에 코로나대출 확대…상반기 금융지주사 순익 50%↑ ----- \n",
      "산림조합 벌초 대행 서비스 확대…코로나19 확산 방지 ----- \n",
      "KDI \"코로나 확산 등으로 경제심리 위축…불확실성 확대\" ----- \n",
      "계명대 '코로나 블루 미술로 치유하다' 전시회 ----- \n",
      "울산 밤사이 코로나 28명 확진…누적 4천521명 ----- \n",
      "코로나19 영향 등으로 명절 특수 사라진 한복상가 ----- \n",
      "코로나19에 등산객 늘었나…작년부터 산악사고 급증 ----- \n",
      "성남시, 음식점·카페 종사자 코로나19 진단검사 행정명령 ----- \n",
      "화천 코로나19 소강…주민에 공공시설 재개 ----- \n",
      "[속보] 경기 광주 코로나 확진자 41명 증가 ----- \n",
      "코로나 국민지원금 신청…휴대폰 본인인증 도입 ----- 뉴시스\n",
      "델타 변이 99.99% 제거… LED 빛으로 집에서 코로나 치료한다 ----- 조선일보\n"
     ]
    }
   ],
   "source": [
    "import requests\n",
    "from bs4 import BeautifulSoup as bs\n",
    "#from urllib.request import urlopen\n",
    "\n",
    "# 소스코드 가져오기\n",
    "\n",
    "## raw\n",
    "\n",
    "for i in range(1, 100, 10) :\n",
    "    raw = requests.get(\"https://search.naver.com/search.naver?where=news&sm=tab_jum&query=코로나&start=\"+str(i), \n",
    "                      headers={\"User-Agent\" : \"Chrome/51.0.2704.103\"}) # 주소, header를 사용  >> 웹브라우저에 대한 데이터를 같이 전송\n",
    "#print(raw) # Response = 200 : 정상 / 404 : 'Page not found'\n",
    "#print(raw.elapsed)\n",
    "#print(raw.text) # 그저 txt\n",
    "\n",
    "# 파싱하기\n",
    "    html = bs(raw.text, \"html.parser\") # raw.txt를 html로 파싱 >> html 태깅된 코드\n",
    "#print(html)\n",
    "\n",
    "# 컨테이너\n",
    "    articles = html.select(\"ul.list_news > li\") # <ul class=\"list_news\"> <li class=\"bx\" id=\"sp_nws1\"> ... </li> ... </ul>\n",
    "#print(articles[0]) # 첫 번째 기사\n",
    "\n",
    "\n",
    "    for a in articles :\n",
    "        title = a.select_one(\"a.news_tit\").text\n",
    "        source = a.select_one(\"a.info.press\").text[0:-6]\n",
    "    \n",
    "        print(title, \"-\"*5, source)\n",
    "\n"
   ]
  },
  {
   "cell_type": "markdown",
   "id": "035e6221-eccb-4b3e-ab52-511ce766cec2",
   "metadata": {
    "tags": []
   },
   "source": [
    "## 여러 페이지에서 수집 반복 2 : 언론사선정 태그가 없는 경우 출처 출력 오류 수정"
   ]
  },
  {
   "cell_type": "code",
   "execution_count": 2,
   "id": "cf8bec86-16b4-433e-abde-87b794137998",
   "metadata": {
    "tags": []
   },
   "outputs": [
    {
     "name": "stdout",
     "output_type": "stream",
     "text": [
      "[속보]文대통령, 코로나 의료진 등 1만5천명에 '추석 선물' ----- 파이낸셜뉴스\n",
      "국민 10명 중 7명 \"'위드 코로나' 전환 찬성…11월 말이 적당\" ----- 연합뉴스\n",
      "코로나19 국민지원금 신청 첫날 1조 2666억 원 지급 ----- 노컷뉴스\n",
      "‘위드 코로나’ 전환, 시점 나왔다…정은경 “10월 말 가능” ----- 조선비즈\n",
      "코로나19 신규 확진자 1597명···월요일 역대 최다 ----- 경향신문\n",
      "KDI \"코로나 확산·원자재값 상승에 경기 불확실성 확대\" ----- 이데일리\n",
      "[속보] 국민 10명 중 7명, '일상 속 코로나' 전환 찬성…\"11월 말 적당\" ----- 매일신문\n",
      "독감 백신 1460만명 무료접종…“코로나 백신과 한날 맞아도 돼” ----- 한겨레\n",
      "코로나19 신규확진 1,597명…월요일 기준 최다 ----- MBC\n",
      "코로나 신규확진 1597명… 월요일 기준 최다 ----- 조선비즈\n",
      "코로나19 백신 1차 접종자 전 국민 60% 돌파 ----- 파이낸셜뉴스\n",
      "KDI \"코로나 확산·원자재값 상승에 경기 불확실성 확대\" ----- 이데일리\n",
      "\"10월초 '위드코로나' 조기 전환, 찬성 58.5% 반대 34.3%\" ----- 연합뉴스\n",
      "[Q&A] 독감-코로나19 백신 같이 맞을 땐…\"접종간격 제한 없어\" ----- 연합뉴스\n",
      "文대통령 \"코로나로 더 중요해진 사회복지인들 인건비 현실화\" ----- 노컷뉴스\n",
      "코로나19 신규확진 1,597명…월요일 기준 최다 ----- MBC\n",
      "독감백신 1천460만명에 무료접종…코로나19 예방접종과 동시 진행 ----- 연합뉴스\n",
      "당국 \"10월말부터 '위드 코로나'에 유리한 여건…용어사용은 지양\" ----- 연합뉴스\n",
      "\"네이버·카카오맵서 코로나 국민지원금 사용처 확인하세요\"(종합) ----- 연합뉴스\n",
      "문대통령 \"새 방역체계 모색\"…위드코로나 속도 내나(종합) ----- 연합뉴스\n",
      "셀리버리, 코로나 면역치료제 'iCP-NI' 유럽 임상신청 완료 ----- 파이낸셜뉴스\n",
      "코로나 국민지원금, 스타벅스·배달의민족에서는 사용 못 해 ----- 연합뉴스\n",
      "[속보] 안산 코로나 확진자 49명 발생 '발생정보는?' ----- 국제뉴스\n",
      "코로나 상생 국민지원금 콜센터 분주 ----- 연합뉴스\n",
      "코로나19 백신 접종 4천647만건중 오접종 사례 1천386건…0.003% ----- 연합뉴스\n",
      "문대통령, 10일 몽골 대통령과 화상회담…코로나 대응 논의 ----- 연합뉴스\n",
      "\"코로나 백신 1차 접종률 60% 넘겨...9월 중 환자 감소 전망\" ----- 프레시안\n",
      "코로나 후 연매출 2조 올린 한샘… 롯데 이어 LX하우시스도 인수 출사표 ----- 머니S\n",
      "정부 \"'위드 코로나' 용어 사용 자제…방역 긴장감 낮아져\" ----- 연합뉴스\n",
      "직장인 64% \"코로나 이후 디지털 과부하 심해졌다\" ----- 파이낸셜뉴스\n",
      "美 코로나 재확산에 중환자실 부족 임박 ----- 파이낸셜뉴스\n",
      "어제 코로나19 신규 확진 1597명…63일 연속 네 자릿수 ----- 세계일보\n",
      "방역당국 \"코로나 백신 수급, 더 이상 불안해할 필요없어\" ----- 파이낸셜뉴스\n",
      "정부 \"코로나19와 독감은 다른 감염병\"…독감백신 접종 당부 ----- 연합뉴스\n",
      "코로나 국민지원금 오늘부터 접수…카드사 홈페이지서 신청 가능 ----- 연합뉴스\n",
      "코로나19에도 ‘대구청년주간’은 계속된다 ----- 뉴시스\n",
      "코로나 국민지원금 내일부터 접수…신청은 어떻게? ----- SBS\n",
      "‘위드 코로나’ 내비친 文 “세계서 가장 빠른 접종 속도” 왜곡 발언 ----- 동아일보\n",
      "정은경 \"10월 말부터 '위드 코로나' 적용 가능할 것\" ----- YTN\n",
      "화순 가을축제 국화향연, 코로나19 확산 우려에 올해도 취소 ----- 연합뉴스\n",
      "위드 코로나 수혜주는…관광·엔터주 '주목' ----- 뉴시스\n",
      "정부 \"위드코로나 검토…상황 안정시 10월부터 단계적 이행\" ----- 한국경제\n",
      "코로나 국민지원금 사용 앞두고 지역사랑상품권 가맹점 늘어 ----- 연합뉴스\n",
      "일본, 연내 코로나19 백신 '부스터샷' 시작 검토 ----- 연합뉴스\n",
      "[속보] \"코로나19 백신 접종 예방효과 16∼18세 98.4%, 19∼24세 92.4%\" ----- 부산일보\n",
      "'코로나 확진' 송가인 근황 공개...\"이제 괜찮아요\" ----- 뉴시스\n",
      "어제 코로나19 백신 '사상 최대치' 기록..\"약 136만회 접종\" ----- 파이낸셜뉴스\n",
      "위드 코로나 대신 ‘단계적 일상 회복’ ----- 서울신문\n",
      "이·미용업장 코로나 방역 강화…동행 제한-예약제 운영 권고 ----- 연합뉴스\n",
      "정부, 미얀마에 300만 달러 인도적 지원…“코로나 극복에 도움 되길” ----- 서울신문\n",
      "국민 4명 중 1명 백신에 부정적…위드 코로나 최대 복병 ----- 뉴스1\n",
      "충남도, 추석 명절 전후 코로나19 확산방지 주력 ----- 뉴스1\n",
      "GS건설, 코로나19 어려움 겪는 운동선수 돕는다 ----- 뉴스1\n",
      "\"코로나 백신 4차례까지…이스라엘 추가 부스터샷 준비\" ----- 연합뉴스\n",
      "장흥군 코로나19 백신 1차 접종 80%돌파 ----- 뉴시스\n",
      "문 대통령, 코로나 의료진에 '팔도 쌀' 추석 선물 ----- 한국일보\n",
      "제주 초등학생 '학폭' 피해 1.7%p↑…코로나19가 키웠다 ----- 파이낸셜뉴스\n",
      "코로나 추석 2년째…올해도 직장인 절반 \"귀성포기\" ----- 뉴시스\n",
      "국민 10명 중 7명 '일상 속 코로나' 전환 찬성, 시기는 '11월 말' ----- 이데일리\n",
      "카라 허영지, 코로나19 확진 ----- 연합뉴스\n",
      "[단독] 코로나 확진자 발생한 ‘도시어부3’…이수근은 음성 판정 ----- 부산일보\n",
      "코로나 대출만기 '째깍째깍'...中企 \"만기연장 및 이자유예 시급\" ----- 전자신문\n",
      "YTN 여론조사 \"위드코로나 조기전환, 10명 중 6명 찬성\" ----- YTN\n",
      "코로나19 신규 확진자 1597명…오늘 1차 접종률 60% 넘긴다 ----- 한겨레\n",
      "[World Now] \"아직 치료법 없는데\"…英, 코로나19 '인체감염실험' 논란 ----- MBC\n",
      "군산시, 코로나19 1차 예방 접종률 61.75% 돌파 ----- 뉴시스\n",
      "코로나19 신규 확진자 1,597명…63일째 연속 네 자릿수 ----- KBS\n",
      "문 대통령 “코로나 신용사면 200만명 빠짐없이 혜택받게 철저 준비” ----- 경향신문\n",
      "코로나19 1차 예방접종 3000만 명 이상 마쳤다 ----- 뉴시스\n",
      "경남에 코로나19 확진 45명 발생…양산 보육·교육시설 관련 누적 36명 ----- 부산일보\n",
      "코로나19 속 밀키트 시장 급성장 ----- 뉴시스\n",
      "文 “새 방역체계 모색”… 위드코로나 시사 ----- 동아일보\n",
      "김포시 “민원동 1층 하루폐쇄”…직원 코로나확진 ----- 파이낸셜뉴스\n",
      "이낙연, '넥스트 대한민국' 제안…포스트 코로나 위해 250조 투자 ----- 뉴시스\n",
      "야놀자, 코로나 위기 극복 신규 지원책 실시 ----- 이데일리\n",
      "공주시, 코로나19 백신 접종완료 ‘안심 배지’ 배부 ----- 뉴시스\n",
      "'코로나19 확산 방지 위해' ----- 뉴스1\n",
      "안철수 \"'위드 코로나' 우려…정부가 희망고문하는 것\" ----- 뉴시스\n",
      "코로나19 신규 확진 1597명… 백신 접종 136만건 일일 '역대 최다' ----- 아시아경제\n",
      "美 코로나 입원환자·사망자, 겨울 대확산 뒤 최고 수준 ----- YTN\n",
      "코로나 백신 개발 기업들, 대조백신 못 구해 노심초사 ----- 뉴시스\n",
      "코로나19 신규확진 1,597명...월요일 기준 최다, 다시 증가세 ----- SBS Biz\n",
      "네이버 지도에서 ‘코로나 상생 국민지원금’ 사용처 확인 ----- 파이낸셜뉴스\n",
      "경기도, 추석 맞아 코로나 ‘경제방역’…中企에 200억 수혈 ----- 국민일보\n",
      "김정숙 여사 “코로나 백신 공평하게 보급 안되고 있다” ----- 국민일보\n",
      "가을 야외활동 중 쯔쯔가무시·SFTS 주의…\"코로나와 증상 비슷\" ----- 뉴시스\n",
      "오늘부터 코로나 '상생' 국민지원금 신청 ----- 한국경제\n",
      "코로나 백신 인증배지 ----- 뉴스1\n",
      "주식열풍에 코로나대출 확대…상반기 금융지주사 순익 50%↑ ----- 이데일리\n",
      "산림조합 벌초 대행 서비스 확대…코로나19 확산 방지 ----- 뉴스1\n",
      "KDI \"코로나 확산 등으로 경제심리 위축…불확실성 확대\" ----- 뉴시스\n",
      "계명대 '코로나 블루 미술로 치유하다' 전시회 ----- 뉴시스\n",
      "울산 밤사이 코로나 28명 확진…누적 4천521명 ----- 연합뉴스\n",
      "코로나19 영향 등으로 명절 특수 사라진 한복상가 ----- 뉴스1\n",
      "코로나19에 등산객 늘었나…작년부터 산악사고 급증 ----- 연합뉴스\n",
      "성남시, 음식점·카페 종사자 코로나19 진단검사 행정명령 ----- 뉴시스\n",
      "화천 코로나19 소강…주민에 공공시설 재개 ----- 연합뉴스\n",
      "[속보] 경기 광주 코로나 확진자 41명 증가 ----- 국제뉴스\n",
      "코로나 국민지원금 신청…휴대폰 본인인증 도입 ----- 뉴시스\n",
      "델타 변이 99.99% 제거… LED 빛으로 집에서 코로나 치료한다 ----- 조선일보\n"
     ]
    }
   ],
   "source": [
    "import requests\n",
    "from bs4 import BeautifulSoup as bs\n",
    "#from urllib.request import urlopen\n",
    "\n",
    "# 소스코드 가져오기\n",
    "\n",
    "## raw\n",
    "\n",
    "for i in range(1, 100, 10) :\n",
    "    raw = requests.get(\"https://search.naver.com/search.naver?where=news&sm=tab_jum&query=코로나&start=\"+str(i), \n",
    "                      headers={\"User-Agent\" : \"Chrome/51.0.2704.103\"}) # 주소, header를 사용  >> 웹브라우저에 대한 데이터를 같이 전송\n",
    "#print(raw) # Response = 200 : 정상 / 404 : 'Page not found'\n",
    "#print(raw.elapsed)\n",
    "#print(raw.text) # 그저 txt\n",
    "\n",
    "# 파싱하기\n",
    "    html = bs(raw.text, \"html.parser\") # raw.txt를 html로 파싱 >> html 태깅된 코드\n",
    "#print(html)\n",
    "\n",
    "# 컨테이너\n",
    "    articles = html.select(\"ul.list_news > li\") # <ul class=\"list_news\"> <li class=\"bx\" id=\"sp_nws1\"> ... </li> ... </ul>\n",
    "#print(articles[0]) # 첫 번째 기사\n",
    "\n",
    "\n",
    "    for a in articles :\n",
    "        title = a.select_one(\"a.news_tit\").text\n",
    "        source = a.select_one(\"a.info.press\").text\n",
    "        if source.startswith(\"언론사 선정\", source.find(\"언론사 선정\")) :\n",
    "            source = a.select_one(\"a.info.press\").text[0:-6]\n",
    "\n",
    "        print(title, \"-\"*5, source)"
   ]
  },
  {
   "cell_type": "code",
   "execution_count": null,
   "id": "7c69351c-1876-4051-b73b-bbec0a465c7f",
   "metadata": {},
   "outputs": [],
   "source": []
  },
  {
   "cell_type": "code",
   "execution_count": 13,
   "id": "56a0b5cb-5b62-458a-98c9-ed5ebb49d52c",
   "metadata": {},
   "outputs": [],
   "source": []
  },
  {
   "cell_type": "code",
   "execution_count": null,
   "id": "9ddf9620-6840-499a-83df-7c1172e1cca6",
   "metadata": {},
   "outputs": [],
   "source": []
  },
  {
   "cell_type": "code",
   "execution_count": null,
   "id": "6c710003-ab12-4a93-a8fd-367605ae53fe",
   "metadata": {},
   "outputs": [],
   "source": []
  },
  {
   "cell_type": "code",
   "execution_count": null,
   "id": "65548384-ba4b-41e8-8aaf-96362df6c9f6",
   "metadata": {},
   "outputs": [],
   "source": []
  },
  {
   "cell_type": "code",
   "execution_count": null,
   "id": "7ca6a960-5c2d-4a58-8a88-53b196405fe4",
   "metadata": {},
   "outputs": [],
   "source": []
  },
  {
   "cell_type": "code",
   "execution_count": null,
   "id": "546ee5db-19f0-425c-bd7a-437b82a896bd",
   "metadata": {},
   "outputs": [],
   "source": []
  }
 ],
 "metadata": {
  "kernelspec": {
   "display_name": "Python 3",
   "language": "python",
   "name": "python3"
  },
  "language_info": {
   "codemirror_mode": {
    "name": "ipython",
    "version": 3
   },
   "file_extension": ".py",
   "mimetype": "text/x-python",
   "name": "python",
   "nbconvert_exporter": "python",
   "pygments_lexer": "ipython3",
   "version": "3.8.11"
  }
 },
 "nbformat": 4,
 "nbformat_minor": 5
}
